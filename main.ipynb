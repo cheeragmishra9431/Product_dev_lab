{
 "cells": [
  {
   "cell_type": "code",
   "execution_count": 19,
   "metadata": {},
   "outputs": [
    {
     "name": "stderr",
     "output_type": "stream",
     "text": [
      "Using cache found in C:\\Users\\LENOVO/.cache\\torch\\hub\\ultralytics_yolov5_master\n",
      "YOLOv5  2022-3-1 torch 1.10.1 CUDA:0 (NVIDIA GeForce RTX 3050 Laptop GPU, 4096MiB)\n",
      "\n",
      "Fusing layers... \n",
      "Model Summary: 213 layers, 7225885 parameters, 0 gradients, 16.5 GFLOPs\n",
      "Adding AutoShape... \n"
     ]
    }
   ],
   "source": [
    "import torch\n",
    "import cv2\n",
    "model = torch.hub.load('ultralytics/yolov5', 'custom','yolov5s.pt')\n",
    "cap =  cv2.VideoCapture('Road traffic video for object recognition.mp4')\n",
    "ret,frame = cap.read()\n",
    "while(ret):\n",
    "    ret,frame = cap.read()\n",
    "    results = model(frame)\n",
    "    #results.print()\n",
    "    #print(results.xyxy[0])\n",
    "    df = results.pandas().xyxy[0]\n",
    "    df = df[df['name'].isin([\"car\",\"truck\",'bike'])]\n",
    "    xmin = df['xmin'].values\n",
    "    ymin = df['ymin'].values\n",
    "    xmax = df['xmax'].values\n",
    "    ymax = df['ymax'].values\n",
    "    name = df['name'].values\n",
    "    vhcont = len(name)\n",
    "    for(x1,y1,x2,y2,objectname) in zip(xmin,ymin,xmax,ymax,name):\n",
    "        cv2.rectangle(frame,(int(x1),int(y1)),(int(x2),int(y2)),(0,255,0),2)\n",
    "        cv2.putText(frame,objectname,(int(x1),int(y1)),cv2.FONT_HERSHEY_SIMPLEX,1,(0,255,0),2)\n",
    "    \n",
    "    cv2.putText(frame,str(vhcont),(10,30),cv2.FONT_HERSHEY_SIMPLEX,1,(0,255,0),2)\n",
    "\n",
    "    cv2.imshow('frame',frame)\n",
    "    if cv2.waitKey(10)&0xFF == ord('q'):\n",
    "        break\n",
    "\n",
    "\n",
    "cv2.destroyAllWindows()\n",
    "cap.release()\n",
    "#results.xyxy[0]  \n",
    " "
   ]
  },
  {
   "cell_type": "code",
   "execution_count": null,
   "metadata": {},
   "outputs": [],
   "source": []
  }
 ],
 "metadata": {
  "interpreter": {
   "hash": "8d2566d60e1413a83669a52007d28f3d0528eea97eeade652d60d7e10f2bd6f6"
  },
  "kernelspec": {
   "display_name": "Python 3.8.12 ('pytorch')",
   "language": "python",
   "name": "python3"
  },
  "language_info": {
   "codemirror_mode": {
    "name": "ipython",
    "version": 3
   },
   "file_extension": ".py",
   "mimetype": "text/x-python",
   "name": "python",
   "nbconvert_exporter": "python",
   "pygments_lexer": "ipython3",
   "version": "3.8.12"
  },
  "orig_nbformat": 4
 },
 "nbformat": 4,
 "nbformat_minor": 2
}
